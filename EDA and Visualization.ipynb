{
 "cells": [
  {
   "cell_type": "markdown",
   "id": "bd1c7243",
   "metadata": {},
   "source": [
    "# AMS Solar Energy Prediction Contest"
   ]
  },
  {
   "cell_type": "code",
   "execution_count": 111,
   "id": "49a11870",
   "metadata": {},
   "outputs": [],
   "source": [
    "#importing libraries\n",
    "from sklearn.preprocessing import StandardScaler\n",
    "import numpy as np\n",
    "import pandas as pd\n",
    "import netCDF4 as nc\n",
    "import matplotlib.pyplot as plt"
   ]
  },
  {
   "cell_type": "markdown",
   "id": "f33873c7",
   "metadata": {},
   "source": [
    "## Exploratory Data Analysis"
   ]
  },
  {
   "cell_type": "code",
   "execution_count": 112,
   "id": "d18b794a",
   "metadata": {
    "scrolled": true
   },
   "outputs": [
    {
     "data": {
      "text/plain": [
       "Index(['Date', 'ACME', 'ADAX', 'ALTU', 'APAC', 'ARNE', 'BEAV', 'BESS', 'BIXB',\n",
       "       'BLAC', 'BOIS', 'BOWL', 'BREC', 'BRIS', 'BUFF', 'BURB', 'BURN', 'BUTL',\n",
       "       'BYAR', 'CAMA', 'CENT', 'CHAN', 'CHER', 'CHEY', 'CHIC', 'CLAY', 'CLOU',\n",
       "       'COOK', 'COPA', 'DURA', 'ELRE', 'ERIC', 'EUFA', 'FAIR', 'FORA', 'FREE',\n",
       "       'FTCB', 'GOOD', 'GUTH', 'HASK', 'HINT', 'HOBA', 'HOLL', 'HOOK', 'HUGO',\n",
       "       'IDAB', 'JAYX', 'KENT', 'KETC', 'LAHO', 'LANE', 'MADI', 'MANG', 'MARE',\n",
       "       'MAYR', 'MCAL', 'MEDF', 'MEDI', 'MIAM', 'MINC', 'MTHE', 'NEWK', 'NINN',\n",
       "       'NOWA', 'OILT', 'OKEM', 'OKMU', 'PAUL', 'PAWN', 'PERK', 'PRYO', 'PUTN',\n",
       "       'REDR', 'RETR', 'RING', 'SALL', 'SEIL', 'SHAW', 'SKIA', 'SLAP', 'SPEN',\n",
       "       'STIG', 'STIL', 'STUA', 'SULP', 'TAHL', 'TALI', 'TIPT', 'TISH', 'VINI',\n",
       "       'WASH', 'WATO', 'WAUR', 'WEAT', 'WEST', 'WILB', 'WIST', 'WOOD', 'WYNO'],\n",
       "      dtype='object')"
      ]
     },
     "execution_count": 112,
     "metadata": {},
     "output_type": "execute_result"
    }
   ],
   "source": [
    "#importing train data\n",
    "main_df=pd.read_csv('train.csv')\n",
    "main_df.columns"
   ]
  },
  {
   "cell_type": "code",
   "execution_count": 113,
   "id": "a54d81ad",
   "metadata": {},
   "outputs": [
    {
     "data": {
      "text/html": [
       "<div>\n",
       "<style scoped>\n",
       "    .dataframe tbody tr th:only-of-type {\n",
       "        vertical-align: middle;\n",
       "    }\n",
       "\n",
       "    .dataframe tbody tr th {\n",
       "        vertical-align: top;\n",
       "    }\n",
       "\n",
       "    .dataframe thead th {\n",
       "        text-align: right;\n",
       "    }\n",
       "</style>\n",
       "<table border=\"1\" class=\"dataframe\">\n",
       "  <thead>\n",
       "    <tr style=\"text-align: right;\">\n",
       "      <th></th>\n",
       "      <th>Date</th>\n",
       "      <th>ACME</th>\n",
       "      <th>ADAX</th>\n",
       "      <th>ALTU</th>\n",
       "      <th>APAC</th>\n",
       "      <th>ARNE</th>\n",
       "      <th>BEAV</th>\n",
       "      <th>BESS</th>\n",
       "      <th>BIXB</th>\n",
       "      <th>BLAC</th>\n",
       "      <th>...</th>\n",
       "      <th>VINI</th>\n",
       "      <th>WASH</th>\n",
       "      <th>WATO</th>\n",
       "      <th>WAUR</th>\n",
       "      <th>WEAT</th>\n",
       "      <th>WEST</th>\n",
       "      <th>WILB</th>\n",
       "      <th>WIST</th>\n",
       "      <th>WOOD</th>\n",
       "      <th>WYNO</th>\n",
       "    </tr>\n",
       "  </thead>\n",
       "  <tbody>\n",
       "    <tr>\n",
       "      <th>0</th>\n",
       "      <td>19940101</td>\n",
       "      <td>12384900</td>\n",
       "      <td>11930700</td>\n",
       "      <td>12116700</td>\n",
       "      <td>12301200</td>\n",
       "      <td>10706100</td>\n",
       "      <td>10116900</td>\n",
       "      <td>11487900</td>\n",
       "      <td>11182800</td>\n",
       "      <td>10848300</td>\n",
       "      <td>...</td>\n",
       "      <td>10771800</td>\n",
       "      <td>12116400</td>\n",
       "      <td>11308800</td>\n",
       "      <td>12361800</td>\n",
       "      <td>11331600</td>\n",
       "      <td>10644300</td>\n",
       "      <td>11715600</td>\n",
       "      <td>11241000</td>\n",
       "      <td>10490100</td>\n",
       "      <td>10545300</td>\n",
       "    </tr>\n",
       "    <tr>\n",
       "      <th>1</th>\n",
       "      <td>19940102</td>\n",
       "      <td>11908500</td>\n",
       "      <td>9778500</td>\n",
       "      <td>10862700</td>\n",
       "      <td>11666400</td>\n",
       "      <td>8062500</td>\n",
       "      <td>9262800</td>\n",
       "      <td>9235200</td>\n",
       "      <td>3963300</td>\n",
       "      <td>3318300</td>\n",
       "      <td>...</td>\n",
       "      <td>4314300</td>\n",
       "      <td>10733400</td>\n",
       "      <td>9154800</td>\n",
       "      <td>12041400</td>\n",
       "      <td>9168300</td>\n",
       "      <td>4082700</td>\n",
       "      <td>9228000</td>\n",
       "      <td>5829900</td>\n",
       "      <td>7412100</td>\n",
       "      <td>3345300</td>\n",
       "    </tr>\n",
       "    <tr>\n",
       "      <th>2</th>\n",
       "      <td>19940103</td>\n",
       "      <td>12470700</td>\n",
       "      <td>9771900</td>\n",
       "      <td>12627300</td>\n",
       "      <td>12782700</td>\n",
       "      <td>11618400</td>\n",
       "      <td>10789800</td>\n",
       "      <td>11895900</td>\n",
       "      <td>4512600</td>\n",
       "      <td>5266500</td>\n",
       "      <td>...</td>\n",
       "      <td>2976900</td>\n",
       "      <td>11775000</td>\n",
       "      <td>10700400</td>\n",
       "      <td>12687300</td>\n",
       "      <td>11324400</td>\n",
       "      <td>2746500</td>\n",
       "      <td>3686700</td>\n",
       "      <td>4488900</td>\n",
       "      <td>9712200</td>\n",
       "      <td>4442100</td>\n",
       "    </tr>\n",
       "    <tr>\n",
       "      <th>3</th>\n",
       "      <td>19940104</td>\n",
       "      <td>12725400</td>\n",
       "      <td>6466800</td>\n",
       "      <td>13065300</td>\n",
       "      <td>12817500</td>\n",
       "      <td>12134400</td>\n",
       "      <td>11816700</td>\n",
       "      <td>12186600</td>\n",
       "      <td>3212700</td>\n",
       "      <td>8270100</td>\n",
       "      <td>...</td>\n",
       "      <td>3476400</td>\n",
       "      <td>12159600</td>\n",
       "      <td>11907000</td>\n",
       "      <td>12953100</td>\n",
       "      <td>11903700</td>\n",
       "      <td>2741400</td>\n",
       "      <td>4905000</td>\n",
       "      <td>4089300</td>\n",
       "      <td>11401500</td>\n",
       "      <td>4365000</td>\n",
       "    </tr>\n",
       "    <tr>\n",
       "      <th>4</th>\n",
       "      <td>19940105</td>\n",
       "      <td>10894800</td>\n",
       "      <td>11545200</td>\n",
       "      <td>8060400</td>\n",
       "      <td>10379400</td>\n",
       "      <td>6918600</td>\n",
       "      <td>9936300</td>\n",
       "      <td>6411300</td>\n",
       "      <td>9566100</td>\n",
       "      <td>8009400</td>\n",
       "      <td>...</td>\n",
       "      <td>6393300</td>\n",
       "      <td>11419500</td>\n",
       "      <td>7334400</td>\n",
       "      <td>10178700</td>\n",
       "      <td>7471500</td>\n",
       "      <td>8235300</td>\n",
       "      <td>11159100</td>\n",
       "      <td>10651500</td>\n",
       "      <td>10006200</td>\n",
       "      <td>8568300</td>\n",
       "    </tr>\n",
       "  </tbody>\n",
       "</table>\n",
       "<p>5 rows × 99 columns</p>\n",
       "</div>"
      ],
      "text/plain": [
       "       Date      ACME      ADAX      ALTU      APAC      ARNE      BEAV  \\\n",
       "0  19940101  12384900  11930700  12116700  12301200  10706100  10116900   \n",
       "1  19940102  11908500   9778500  10862700  11666400   8062500   9262800   \n",
       "2  19940103  12470700   9771900  12627300  12782700  11618400  10789800   \n",
       "3  19940104  12725400   6466800  13065300  12817500  12134400  11816700   \n",
       "4  19940105  10894800  11545200   8060400  10379400   6918600   9936300   \n",
       "\n",
       "       BESS      BIXB      BLAC  ...      VINI      WASH      WATO      WAUR  \\\n",
       "0  11487900  11182800  10848300  ...  10771800  12116400  11308800  12361800   \n",
       "1   9235200   3963300   3318300  ...   4314300  10733400   9154800  12041400   \n",
       "2  11895900   4512600   5266500  ...   2976900  11775000  10700400  12687300   \n",
       "3  12186600   3212700   8270100  ...   3476400  12159600  11907000  12953100   \n",
       "4   6411300   9566100   8009400  ...   6393300  11419500   7334400  10178700   \n",
       "\n",
       "       WEAT      WEST      WILB      WIST      WOOD      WYNO  \n",
       "0  11331600  10644300  11715600  11241000  10490100  10545300  \n",
       "1   9168300   4082700   9228000   5829900   7412100   3345300  \n",
       "2  11324400   2746500   3686700   4488900   9712200   4442100  \n",
       "3  11903700   2741400   4905000   4089300  11401500   4365000  \n",
       "4   7471500   8235300  11159100  10651500  10006200   8568300  \n",
       "\n",
       "[5 rows x 99 columns]"
      ]
     },
     "execution_count": 113,
     "metadata": {},
     "output_type": "execute_result"
    }
   ],
   "source": [
    "main_df.head()"
   ]
  },
  {
   "cell_type": "code",
   "execution_count": 114,
   "id": "900ba7bf",
   "metadata": {},
   "outputs": [
    {
     "data": {
      "text/plain": [
       "IDAB   HINT   SLAP   WEST   BESS   ACME \n",
       "False  False  False  False  False  False    4018\n",
       "dtype: int64"
      ]
     },
     "execution_count": 114,
     "metadata": {},
     "output_type": "execute_result"
    }
   ],
   "source": [
    "#NULL VALUE CHECKING\n",
    "(main_df[['IDAB','HINT','SLAP','WEST','BESS','ACME']].isna()).value_counts()"
   ]
  },
  {
   "cell_type": "markdown",
   "id": "e7c47547",
   "metadata": {},
   "source": [
    "NO NULL VALUES IN THE FEATURE COLUMNS"
   ]
  },
  {
   "cell_type": "code",
   "execution_count": 115,
   "id": "a5d963d3",
   "metadata": {},
   "outputs": [
    {
     "data": {
      "text/html": [
       "<div>\n",
       "<style scoped>\n",
       "    .dataframe tbody tr th:only-of-type {\n",
       "        vertical-align: middle;\n",
       "    }\n",
       "\n",
       "    .dataframe tbody tr th {\n",
       "        vertical-align: top;\n",
       "    }\n",
       "\n",
       "    .dataframe thead th {\n",
       "        text-align: right;\n",
       "    }\n",
       "</style>\n",
       "<table border=\"1\" class=\"dataframe\">\n",
       "  <thead>\n",
       "    <tr style=\"text-align: right;\">\n",
       "      <th></th>\n",
       "      <th>IDAB</th>\n",
       "      <th>HINT</th>\n",
       "      <th>SLAP</th>\n",
       "      <th>WEST</th>\n",
       "      <th>BESS</th>\n",
       "      <th>ACME</th>\n",
       "    </tr>\n",
       "  </thead>\n",
       "  <tbody>\n",
       "    <tr>\n",
       "      <th>count</th>\n",
       "      <td>4.018000e+03</td>\n",
       "      <td>4.018000e+03</td>\n",
       "      <td>4.018000e+03</td>\n",
       "      <td>4.018000e+03</td>\n",
       "      <td>4.018000e+03</td>\n",
       "      <td>4.018000e+03</td>\n",
       "    </tr>\n",
       "    <tr>\n",
       "      <th>mean</th>\n",
       "      <td>1.568717e+07</td>\n",
       "      <td>1.691439e+07</td>\n",
       "      <td>1.742617e+07</td>\n",
       "      <td>1.518480e+07</td>\n",
       "      <td>1.732511e+07</td>\n",
       "      <td>1.689670e+07</td>\n",
       "    </tr>\n",
       "    <tr>\n",
       "      <th>std</th>\n",
       "      <td>7.877536e+06</td>\n",
       "      <td>7.858863e+06</td>\n",
       "      <td>7.890201e+06</td>\n",
       "      <td>8.077492e+06</td>\n",
       "      <td>7.999386e+06</td>\n",
       "      <td>7.981281e+06</td>\n",
       "    </tr>\n",
       "    <tr>\n",
       "      <th>min</th>\n",
       "      <td>1.200000e+03</td>\n",
       "      <td>5.052000e+05</td>\n",
       "      <td>1.350000e+04</td>\n",
       "      <td>3.600000e+04</td>\n",
       "      <td>5.106000e+05</td>\n",
       "      <td>7.206000e+05</td>\n",
       "    </tr>\n",
       "    <tr>\n",
       "      <th>25%</th>\n",
       "      <td>9.555900e+06</td>\n",
       "      <td>1.141132e+07</td>\n",
       "      <td>1.151062e+07</td>\n",
       "      <td>9.422925e+06</td>\n",
       "      <td>1.165868e+07</td>\n",
       "      <td>1.138028e+07</td>\n",
       "    </tr>\n",
       "    <tr>\n",
       "      <th>50%</th>\n",
       "      <td>1.576905e+07</td>\n",
       "      <td>1.691220e+07</td>\n",
       "      <td>1.739475e+07</td>\n",
       "      <td>1.461645e+07</td>\n",
       "      <td>1.730205e+07</td>\n",
       "      <td>1.696785e+07</td>\n",
       "    </tr>\n",
       "    <tr>\n",
       "      <th>75%</th>\n",
       "      <td>2.253382e+07</td>\n",
       "      <td>2.386080e+07</td>\n",
       "      <td>2.426055e+07</td>\n",
       "      <td>2.206905e+07</td>\n",
       "      <td>2.436232e+07</td>\n",
       "      <td>2.392290e+07</td>\n",
       "    </tr>\n",
       "    <tr>\n",
       "      <th>max</th>\n",
       "      <td>3.944280e+07</td>\n",
       "      <td>3.137460e+07</td>\n",
       "      <td>3.235560e+07</td>\n",
       "      <td>3.203010e+07</td>\n",
       "      <td>3.188790e+07</td>\n",
       "      <td>3.134790e+07</td>\n",
       "    </tr>\n",
       "  </tbody>\n",
       "</table>\n",
       "</div>"
      ],
      "text/plain": [
       "               IDAB          HINT          SLAP          WEST          BESS  \\\n",
       "count  4.018000e+03  4.018000e+03  4.018000e+03  4.018000e+03  4.018000e+03   \n",
       "mean   1.568717e+07  1.691439e+07  1.742617e+07  1.518480e+07  1.732511e+07   \n",
       "std    7.877536e+06  7.858863e+06  7.890201e+06  8.077492e+06  7.999386e+06   \n",
       "min    1.200000e+03  5.052000e+05  1.350000e+04  3.600000e+04  5.106000e+05   \n",
       "25%    9.555900e+06  1.141132e+07  1.151062e+07  9.422925e+06  1.165868e+07   \n",
       "50%    1.576905e+07  1.691220e+07  1.739475e+07  1.461645e+07  1.730205e+07   \n",
       "75%    2.253382e+07  2.386080e+07  2.426055e+07  2.206905e+07  2.436232e+07   \n",
       "max    3.944280e+07  3.137460e+07  3.235560e+07  3.203010e+07  3.188790e+07   \n",
       "\n",
       "               ACME  \n",
       "count  4.018000e+03  \n",
       "mean   1.689670e+07  \n",
       "std    7.981281e+06  \n",
       "min    7.206000e+05  \n",
       "25%    1.138028e+07  \n",
       "50%    1.696785e+07  \n",
       "75%    2.392290e+07  \n",
       "max    3.134790e+07  "
      ]
     },
     "execution_count": 115,
     "metadata": {},
     "output_type": "execute_result"
    }
   ],
   "source": [
    "main_df[['IDAB','HINT','SLAP','WEST','BESS','ACME']].describe()"
   ]
  },
  {
   "cell_type": "code",
   "execution_count": 116,
   "id": "97268f38",
   "metadata": {
    "scrolled": true
   },
   "outputs": [
    {
     "data": {
      "text/plain": [
       "(4018, 99)"
      ]
     },
     "execution_count": 116,
     "metadata": {},
     "output_type": "execute_result"
    }
   ],
   "source": [
    "main_df.shape"
   ]
  },
  {
   "cell_type": "markdown",
   "id": "281fd4f3",
   "metadata": {},
   "source": [
    "Dataset contains 4018 rows and 99 coloumns"
   ]
  },
  {
   "cell_type": "markdown",
   "id": "a335760d",
   "metadata": {},
   "source": [
    "#### Outlier Analysis"
   ]
  },
  {
   "cell_type": "code",
   "execution_count": 117,
   "id": "1e921210",
   "metadata": {
    "scrolled": false
   },
   "outputs": [
    {
     "data": {
      "image/png": "[encoded data removed]",
      "text/plain": [
       "<Figure size 432x288 with 1 Axes>"
      ]
     },
     "metadata": {
      "needs_background": "light"
     },
     "output_type": "display_data"
    }
   ],
   "source": [
    "plt.scatter(main_df['Date'],main_df['HINT'])\n",
    "plt.show()"
   ]
  },
  {
   "cell_type": "code",
   "execution_count": 118,
   "id": "71807a1d",
   "metadata": {},
   "outputs": [
    {
     "data": {
      "text/plain": [
       "{'whiskers': [<matplotlib.lines.Line2D at 0x1c771cbe280>,\n",
       "  <matplotlib.lines.Line2D at 0x1c771cbe130>],\n",
       " 'caps': [<matplotlib.lines.Line2D at 0x1c771cbe100>,\n",
       "  <matplotlib.lines.Line2D at 0x1c771d117c0>],\n",
       " 'boxes': [<matplotlib.lines.Line2D at 0x1c7719ecd30>],\n",
       " 'medians': [<matplotlib.lines.Line2D at 0x1c771aa4820>],\n",
       " 'fliers': [<matplotlib.lines.Line2D at 0x1c771aa4940>],\n",
       " 'means': []}"
      ]
     },
     "execution_count": 118,
     "metadata": {},
     "output_type": "execute_result"
    },
    {
     "data": {
      "image/png": "[encoded data removed]",
      "text/plain": [
       "<Figure size 432x288 with 1 Axes>"
      ]
     },
     "metadata": {
      "needs_background": "light"
     },
     "output_type": "display_data"
    }
   ],
   "source": [
    "plt.boxplot(main_df['HINT'])"
   ]
  },
  {
   "cell_type": "code",
   "execution_count": 119,
   "id": "1c35159e",
   "metadata": {},
   "outputs": [
    {
     "data": {
      "text/html": [
       "<div>\n",
       "<style scoped>\n",
       "    .dataframe tbody tr th:only-of-type {\n",
       "        vertical-align: middle;\n",
       "    }\n",
       "\n",
       "    .dataframe tbody tr th {\n",
       "        vertical-align: top;\n",
       "    }\n",
       "\n",
       "    .dataframe thead th {\n",
       "        text-align: right;\n",
       "    }\n",
       "</style>\n",
       "<table border=\"1\" class=\"dataframe\">\n",
       "  <thead>\n",
       "    <tr style=\"text-align: right;\">\n",
       "      <th></th>\n",
       "      <th>Date</th>\n",
       "      <th>ACME</th>\n",
       "      <th>ADAX</th>\n",
       "      <th>ALTU</th>\n",
       "      <th>APAC</th>\n",
       "      <th>ARNE</th>\n",
       "      <th>BEAV</th>\n",
       "      <th>BESS</th>\n",
       "      <th>BIXB</th>\n",
       "      <th>BLAC</th>\n",
       "      <th>...</th>\n",
       "      <th>VINI</th>\n",
       "      <th>WASH</th>\n",
       "      <th>WATO</th>\n",
       "      <th>WAUR</th>\n",
       "      <th>WEAT</th>\n",
       "      <th>WEST</th>\n",
       "      <th>WILB</th>\n",
       "      <th>WIST</th>\n",
       "      <th>WOOD</th>\n",
       "      <th>WYNO</th>\n",
       "    </tr>\n",
       "  </thead>\n",
       "  <tbody>\n",
       "    <tr>\n",
       "      <th>0</th>\n",
       "      <td>19940101</td>\n",
       "      <td>12384900</td>\n",
       "      <td>11930700</td>\n",
       "      <td>12116700</td>\n",
       "      <td>12301200</td>\n",
       "      <td>10706100</td>\n",
       "      <td>10116900</td>\n",
       "      <td>11487900</td>\n",
       "      <td>11182800</td>\n",
       "      <td>10848300</td>\n",
       "      <td>...</td>\n",
       "      <td>10771800</td>\n",
       "      <td>12116400</td>\n",
       "      <td>11308800</td>\n",
       "      <td>12361800</td>\n",
       "      <td>11331600</td>\n",
       "      <td>10644300</td>\n",
       "      <td>11715600</td>\n",
       "      <td>11241000</td>\n",
       "      <td>10490100</td>\n",
       "      <td>10545300</td>\n",
       "    </tr>\n",
       "    <tr>\n",
       "      <th>1</th>\n",
       "      <td>19940102</td>\n",
       "      <td>11908500</td>\n",
       "      <td>9778500</td>\n",
       "      <td>10862700</td>\n",
       "      <td>11666400</td>\n",
       "      <td>8062500</td>\n",
       "      <td>9262800</td>\n",
       "      <td>9235200</td>\n",
       "      <td>3963300</td>\n",
       "      <td>3318300</td>\n",
       "      <td>...</td>\n",
       "      <td>4314300</td>\n",
       "      <td>10733400</td>\n",
       "      <td>9154800</td>\n",
       "      <td>12041400</td>\n",
       "      <td>9168300</td>\n",
       "      <td>4082700</td>\n",
       "      <td>9228000</td>\n",
       "      <td>5829900</td>\n",
       "      <td>7412100</td>\n",
       "      <td>3345300</td>\n",
       "    </tr>\n",
       "    <tr>\n",
       "      <th>2</th>\n",
       "      <td>19940103</td>\n",
       "      <td>12470700</td>\n",
       "      <td>9771900</td>\n",
       "      <td>12627300</td>\n",
       "      <td>12782700</td>\n",
       "      <td>11618400</td>\n",
       "      <td>10789800</td>\n",
       "      <td>11895900</td>\n",
       "      <td>4512600</td>\n",
       "      <td>5266500</td>\n",
       "      <td>...</td>\n",
       "      <td>2976900</td>\n",
       "      <td>11775000</td>\n",
       "      <td>10700400</td>\n",
       "      <td>12687300</td>\n",
       "      <td>11324400</td>\n",
       "      <td>2746500</td>\n",
       "      <td>3686700</td>\n",
       "      <td>4488900</td>\n",
       "      <td>9712200</td>\n",
       "      <td>4442100</td>\n",
       "    </tr>\n",
       "    <tr>\n",
       "      <th>3</th>\n",
       "      <td>19940104</td>\n",
       "      <td>12725400</td>\n",
       "      <td>6466800</td>\n",
       "      <td>13065300</td>\n",
       "      <td>12817500</td>\n",
       "      <td>12134400</td>\n",
       "      <td>11816700</td>\n",
       "      <td>12186600</td>\n",
       "      <td>3212700</td>\n",
       "      <td>8270100</td>\n",
       "      <td>...</td>\n",
       "      <td>3476400</td>\n",
       "      <td>12159600</td>\n",
       "      <td>11907000</td>\n",
       "      <td>12953100</td>\n",
       "      <td>11903700</td>\n",
       "      <td>2741400</td>\n",
       "      <td>4905000</td>\n",
       "      <td>4089300</td>\n",
       "      <td>11401500</td>\n",
       "      <td>4365000</td>\n",
       "    </tr>\n",
       "    <tr>\n",
       "      <th>4</th>\n",
       "      <td>19940105</td>\n",
       "      <td>10894800</td>\n",
       "      <td>11545200</td>\n",
       "      <td>8060400</td>\n",
       "      <td>10379400</td>\n",
       "      <td>6918600</td>\n",
       "      <td>9936300</td>\n",
       "      <td>6411300</td>\n",
       "      <td>9566100</td>\n",
       "      <td>8009400</td>\n",
       "      <td>...</td>\n",
       "      <td>6393300</td>\n",
       "      <td>11419500</td>\n",
       "      <td>7334400</td>\n",
       "      <td>10178700</td>\n",
       "      <td>7471500</td>\n",
       "      <td>8235300</td>\n",
       "      <td>11159100</td>\n",
       "      <td>10651500</td>\n",
       "      <td>10006200</td>\n",
       "      <td>8568300</td>\n",
       "    </tr>\n",
       "  </tbody>\n",
       "</table>\n",
       "<p>5 rows × 99 columns</p>\n",
       "</div>"
      ],
      "text/plain": [
       "       Date      ACME      ADAX      ALTU      APAC      ARNE      BEAV  \\\n",
       "0  19940101  12384900  11930700  12116700  12301200  10706100  10116900   \n",
       "1  19940102  11908500   9778500  10862700  11666400   8062500   9262800   \n",
       "2  19940103  12470700   9771900  12627300  12782700  11618400  10789800   \n",
       "3  19940104  12725400   6466800  13065300  12817500  12134400  11816700   \n",
       "4  19940105  10894800  11545200   8060400  10379400   6918600   9936300   \n",
       "\n",
       "       BESS      BIXB      BLAC  ...      VINI      WASH      WATO      WAUR  \\\n",
       "0  11487900  11182800  10848300  ...  10771800  12116400  11308800  12361800   \n",
       "1   9235200   3963300   3318300  ...   4314300  10733400   9154800  12041400   \n",
       "2  11895900   4512600   5266500  ...   2976900  11775000  10700400  12687300   \n",
       "3  12186600   3212700   8270100  ...   3476400  12159600  11907000  12953100   \n",
       "4   6411300   9566100   8009400  ...   6393300  11419500   7334400  10178700   \n",
       "\n",
       "       WEAT      WEST      WILB      WIST      WOOD      WYNO  \n",
       "0  11331600  10644300  11715600  11241000  10490100  10545300  \n",
       "1   9168300   4082700   9228000   5829900   7412100   3345300  \n",
       "2  11324400   2746500   3686700   4488900   9712200   4442100  \n",
       "3  11903700   2741400   4905000   4089300  11401500   4365000  \n",
       "4   7471500   8235300  11159100  10651500  10006200   8568300  \n",
       "\n",
       "[5 rows x 99 columns]"
      ]
     },
     "execution_count": 119,
     "metadata": {},
     "output_type": "execute_result"
    }
   ],
   "source": [
    "main_df.head()"
   ]
  },
  {
   "cell_type": "markdown",
   "id": "eed86d5c",
   "metadata": {},
   "source": []
  },
  {
   "cell_type": "code",
   "execution_count": 120,
   "id": "32439ae8",
   "metadata": {
    "scrolled": false
   },
   "outputs": [
    {
     "data": {
      "text/plain": [
       "{'whiskers': [<matplotlib.lines.Line2D at 0x1c771e243d0>,\n",
       "  <matplotlib.lines.Line2D at 0x1c771e24df0>],\n",
       " 'caps': [<matplotlib.lines.Line2D at 0x1c771e24490>,\n",
       "  <matplotlib.lines.Line2D at 0x1c771efe670>],\n",
       " 'boxes': [<matplotlib.lines.Line2D at 0x1c771e24cd0>],\n",
       " 'medians': [<matplotlib.lines.Line2D at 0x1c771e3f100>],\n",
       " 'fliers': [<matplotlib.lines.Line2D at 0x1c771e3f610>],\n",
       " 'means': []}"
      ]
     },
     "execution_count": 120,
     "metadata": {},
     "output_type": "execute_result"
    },
    {
     "data": {
      "image/png": "[encoded data removed]",
      "text/plain": [
       "<Figure size 432x288 with 1 Axes>"
      ]
     },
     "metadata": {
      "needs_background": "light"
     },
     "output_type": "display_data"
    }
   ],
   "source": [
    "plt.boxplot(main_df['IDAB'])"
   ]
  },
  {
   "cell_type": "code",
   "execution_count": 121,
   "id": "48459574",
   "metadata": {
    "scrolled": true
   },
   "outputs": [
    {
     "data": {
      "image/png": "[encoded data removed]",
      "text/plain": [
       "<Figure size 432x288 with 1 Axes>"
      ]
     },
     "metadata": {
      "needs_background": "light"
     },
     "output_type": "display_data"
    }
   ],
   "source": [
    "plt.scatter(main_df['Date'],main_df['IDAB'])\n",
    "plt.show()"
   ]
  },
  {
   "cell_type": "code",
   "execution_count": 122,
   "id": "9821de0b",
   "metadata": {},
   "outputs": [
    {
     "data": {
      "text/plain": [
       "39442800"
      ]
     },
     "execution_count": 122,
     "metadata": {},
     "output_type": "execute_result"
    }
   ],
   "source": [
    "max(main_df['IDAB'])"
   ]
  },
  {
   "cell_type": "code",
   "execution_count": 123,
   "id": "03e9d245",
   "metadata": {},
   "outputs": [
    {
     "data": {
      "image/png": "[encoded data removed]",
      "text/plain": [
       "<Figure size 432x288 with 1 Axes>"
      ]
     },
     "metadata": {
      "needs_background": "light"
     },
     "output_type": "display_data"
    }
   ],
   "source": [
    "#Replacing Outlier Points with Population mean\n",
    "main_df['IDAB'].replace({max(main_df['IDAB']):main_df['IDAB'].mean()},inplace=True)\n",
    "main_df['IDAB'].replace({max(main_df['IDAB']):main_df['IDAB'].mean()},inplace=True)\n",
    "\n",
    "plt.scatter(main_df['Date'],main_df['IDAB'])\n",
    "plt.show()"
   ]
  },
  {
   "cell_type": "code",
   "execution_count": 124,
   "id": "fc854e4b",
   "metadata": {},
   "outputs": [
    {
     "data": {
      "image/png": "[encoded data removed]",
      "text/plain": [
       "<Figure size 432x288 with 1 Axes>"
      ]
     },
     "metadata": {
      "needs_background": "light"
     },
     "output_type": "display_data"
    }
   ],
   "source": [
    "plt.scatter(main_df['Date'],main_df['SLAP'])\n",
    "plt.show()"
   ]
  },
  {
   "cell_type": "code",
   "execution_count": 125,
   "id": "177eea0b",
   "metadata": {},
   "outputs": [
    {
     "data": {
      "image/png": "[encoded data removed]",
      "text/plain": [
       "<Figure size 432x288 with 1 Axes>"
      ]
     },
     "metadata": {
      "needs_background": "light"
     },
     "output_type": "display_data"
    }
   ],
   "source": [
    "plt.scatter(main_df['Date'],main_df['WEST'])\n",
    "plt.show()"
   ]
  },
  {
   "cell_type": "code",
   "execution_count": 126,
   "id": "1b9014d6",
   "metadata": {},
   "outputs": [
    {
     "data": {
      "image/png": "[encoded data removed]",
      "text/plain": [
       "<Figure size 432x288 with 1 Axes>"
      ]
     },
     "metadata": {
      "needs_background": "light"
     },
     "output_type": "display_data"
    }
   ],
   "source": [
    "plt.scatter(main_df['Date'],main_df['BESS'])\n",
    "plt.show()"
   ]
  },
  {
   "cell_type": "code",
   "execution_count": 127,
   "id": "41b7554b",
   "metadata": {
    "scrolled": true
   },
   "outputs": [
    {
     "data": {
      "image/png": "[encoded data removed]",
      "text/plain": [
       "<Figure size 432x288 with 1 Axes>"
      ]
     },
     "metadata": {
      "needs_background": "light"
     },
     "output_type": "display_data"
    }
   ],
   "source": [
    "plt.scatter(main_df['Date'],main_df['ACME'])\n",
    "plt.show()"
   ]
  },
  {
   "cell_type": "code",
   "execution_count": 128,
   "id": "31963230",
   "metadata": {},
   "outputs": [],
   "source": [
    "def get_avarage_energy(station):\n",
    "    return main_df[station].mean()\n",
    "\n",
    "def get_stationinfo(station):\n",
    "    df=pd.read_csv('station_info.csv')\n",
    "    df.loc[df['stid'] == station]\n",
    "    df.drop(['stid'],axis=1)\n",
    "    return df"
   ]
  },
  {
   "cell_type": "code",
   "execution_count": 129,
   "id": "04becba1",
   "metadata": {
    "scrolled": true
   },
   "outputs": [],
   "source": [
    "stations=main_df.columns.to_numpy()\n",
    "stations=np.delete(stations,0)"
   ]
  },
  {
   "cell_type": "code",
   "execution_count": 130,
   "id": "61b38f75",
   "metadata": {
    "scrolled": true
   },
   "outputs": [
    {
     "data": {
      "text/plain": [
       "array(['ACME', 'ADAX', 'ALTU', 'APAC', 'ARNE', 'BEAV', 'BESS', 'BIXB',\n",
       "       'BLAC', 'BOIS', 'BOWL', 'BREC', 'BRIS', 'BUFF', 'BURB', 'BURN',\n",
       "       'BUTL', 'BYAR', 'CAMA', 'CENT', 'CHAN', 'CHER', 'CHEY', 'CHIC',\n",
       "       'CLAY', 'CLOU', 'COOK', 'COPA', 'DURA', 'ELRE', 'ERIC', 'EUFA',\n",
       "       'FAIR', 'FORA', 'FREE', 'FTCB', 'GOOD', 'GUTH', 'HASK', 'HINT',\n",
       "       'HOBA', 'HOLL', 'HOOK', 'HUGO', 'IDAB', 'JAYX', 'KENT', 'KETC',\n",
       "       'LAHO', 'LANE', 'MADI', 'MANG', 'MARE', 'MAYR', 'MCAL', 'MEDF',\n",
       "       'MEDI', 'MIAM', 'MINC', 'MTHE', 'NEWK', 'NINN', 'NOWA', 'OILT',\n",
       "       'OKEM', 'OKMU', 'PAUL', 'PAWN', 'PERK', 'PRYO', 'PUTN', 'REDR',\n",
       "       'RETR', 'RING', 'SALL', 'SEIL', 'SHAW', 'SKIA', 'SLAP', 'SPEN',\n",
       "       'STIG', 'STIL', 'STUA', 'SULP', 'TAHL', 'TALI', 'TIPT', 'TISH',\n",
       "       'VINI', 'WASH', 'WATO', 'WAUR', 'WEAT', 'WEST', 'WILB', 'WIST',\n",
       "       'WOOD', 'WYNO'], dtype=object)"
      ]
     },
     "execution_count": 130,
     "metadata": {},
     "output_type": "execute_result"
    }
   ],
   "source": [
    "stations"
   ]
  },
  {
   "cell_type": "code",
   "execution_count": 131,
   "id": "811ab382",
   "metadata": {},
   "outputs": [],
   "source": [
    "energyinfo= pd.DataFrame(columns = ['energy'])\n",
    "for each in stations:\n",
    "    energyinfo.loc[len(energyinfo.index)] = [get_avarage_energy(each)]"
   ]
  },
  {
   "cell_type": "code",
   "execution_count": 132,
   "id": "b93015df",
   "metadata": {},
   "outputs": [
    {
     "data": {
      "text/plain": [
       "Index(['energy', 'stid', 'nlat', 'elon', 'elev'], dtype='object')"
      ]
     },
     "execution_count": 132,
     "metadata": {},
     "output_type": "execute_result"
    }
   ],
   "source": [
    "df=pd.read_csv('station_info.csv')\n",
    "df=pd.concat([energyinfo,df],axis=1)\n",
    "df.columns"
   ]
  },
  {
   "cell_type": "code",
   "execution_count": 133,
   "id": "ad560135",
   "metadata": {},
   "outputs": [],
   "source": [
    "df['energy']\n",
    "columstofloat=['nlat','elon','elev']\n",
    "for each in columstofloat:\n",
    "    df[each]= df[each].astype(float)"
   ]
  },
  {
   "cell_type": "markdown",
   "id": "d2270a1a",
   "metadata": {},
   "source": [
    "For solar production, the sun intensity, measured by time and sunlight strength, is the\n",
    "main factor that determines the solar production.\n",
    "Lets check for correlation of different features with out target Solar Energy"
   ]
  },
  {
   "cell_type": "code",
   "execution_count": 134,
   "id": "ad43bee5",
   "metadata": {},
   "outputs": [
    {
     "data": {
      "image/png": "[encoded data removed]",
      "text/plain": [
       "<Figure size 432x288 with 1 Axes>"
      ]
     },
     "metadata": {
      "needs_background": "light"
     },
     "output_type": "display_data"
    }
   ],
   "source": [
    "plt.scatter(df['energy'],df['elev'])\n",
    "plt.xlabel(\"Solar Energy(J-m2)\")\n",
    "plt.ylabel(\"Elevation of each Station\")\n",
    "plt.title(\"Elevation and Solar Energy Correlation\")\n",
    "plt.show()"
   ]
  },
  {
   "cell_type": "markdown",
   "id": "75db7a09",
   "metadata": {},
   "source": [
    "Above Plot shows Elevation is highly correlated with our Target Feature "
   ]
  },
  {
   "cell_type": "code",
   "execution_count": 135,
   "id": "129fe560",
   "metadata": {},
   "outputs": [
    {
     "data": {
      "image/png": "[encoded data removed]",
      "text/plain": [
       "<Figure size 432x288 with 1 Axes>"
      ]
     },
     "metadata": {
      "needs_background": "light"
     },
     "output_type": "display_data"
    }
   ],
   "source": [
    "plt.scatter(df['energy'],df['elon'])\n",
    "plt.xlabel(\"Solar Energy(J-m2)\")\n",
    "plt.ylabel(\"Longitude of each Station\")\n",
    "plt.title(\"longitude and Solar Energy Correlation\")\n",
    "plt.show()"
   ]
  },
  {
   "cell_type": "markdown",
   "id": "b7510f50",
   "metadata": {},
   "source": [
    "Longitude is inversely correlated with Solar Energy"
   ]
  },
  {
   "cell_type": "code",
   "execution_count": 136,
   "id": "18c4d7fb",
   "metadata": {},
   "outputs": [
    {
     "data": {
      "image/png": "[encoded data removed]",
      "text/plain": [
       "<Figure size 432x288 with 1 Axes>"
      ]
     },
     "metadata": {
      "needs_background": "light"
     },
     "output_type": "display_data"
    }
   ],
   "source": [
    "plt.scatter(df['energy'],df['nlat'])\n",
    "plt.xlabel(\"Solar Energy(J-m2)\")\n",
    "plt.ylabel(\"Latitude of each Station\")\n",
    "plt.title(\"Latitude and Solar Energy Correlation\")\n",
    "plt.show()"
   ]
  },
  {
   "cell_type": "code",
   "execution_count": 137,
   "id": "8a1841a5",
   "metadata": {
    "scrolled": true
   },
   "outputs": [
    {
     "data": {
      "text/html": [
       "<div>\n",
       "<style scoped>\n",
       "    .dataframe tbody tr th:only-of-type {\n",
       "        vertical-align: middle;\n",
       "    }\n",
       "\n",
       "    .dataframe tbody tr th {\n",
       "        vertical-align: top;\n",
       "    }\n",
       "\n",
       "    .dataframe thead th {\n",
       "        text-align: right;\n",
       "    }\n",
       "</style>\n",
       "<table border=\"1\" class=\"dataframe\">\n",
       "  <thead>\n",
       "    <tr style=\"text-align: right;\">\n",
       "      <th></th>\n",
       "      <th>energy</th>\n",
       "      <th>nlat</th>\n",
       "      <th>elon</th>\n",
       "      <th>elev</th>\n",
       "    </tr>\n",
       "  </thead>\n",
       "  <tbody>\n",
       "    <tr>\n",
       "      <th>energy</th>\n",
       "      <td>1.000000</td>\n",
       "      <td>0.152869</td>\n",
       "      <td>-0.955921</td>\n",
       "      <td>0.848218</td>\n",
       "    </tr>\n",
       "    <tr>\n",
       "      <th>nlat</th>\n",
       "      <td>0.152869</td>\n",
       "      <td>1.000000</td>\n",
       "      <td>-0.235067</td>\n",
       "      <td>0.385038</td>\n",
       "    </tr>\n",
       "    <tr>\n",
       "      <th>elon</th>\n",
       "      <td>-0.955921</td>\n",
       "      <td>-0.235067</td>\n",
       "      <td>1.000000</td>\n",
       "      <td>-0.894497</td>\n",
       "    </tr>\n",
       "    <tr>\n",
       "      <th>elev</th>\n",
       "      <td>0.848218</td>\n",
       "      <td>0.385038</td>\n",
       "      <td>-0.894497</td>\n",
       "      <td>1.000000</td>\n",
       "    </tr>\n",
       "  </tbody>\n",
       "</table>\n",
       "</div>"
      ],
      "text/plain": [
       "          energy      nlat      elon      elev\n",
       "energy  1.000000  0.152869 -0.955921  0.848218\n",
       "nlat    0.152869  1.000000 -0.235067  0.385038\n",
       "elon   -0.955921 -0.235067  1.000000 -0.894497\n",
       "elev    0.848218  0.385038 -0.894497  1.000000"
      ]
     },
     "execution_count": 137,
     "metadata": {},
     "output_type": "execute_result"
    }
   ],
   "source": [
    "df.corr()"
   ]
  },
  {
   "cell_type": "markdown",
   "id": "8655f7aa",
   "metadata": {},
   "source": [
    "It can be seen that elevation shows highest correlation of 0.84 "
   ]
  },
  {
   "cell_type": "code",
   "execution_count": 138,
   "id": "7457c310",
   "metadata": {
    "scrolled": true
   },
   "outputs": [
    {
     "data": {
      "text/html": [
       "<div>\n",
       "<style scoped>\n",
       "    .dataframe tbody tr th:only-of-type {\n",
       "        vertical-align: middle;\n",
       "    }\n",
       "\n",
       "    .dataframe tbody tr th {\n",
       "        vertical-align: top;\n",
       "    }\n",
       "\n",
       "    .dataframe thead th {\n",
       "        text-align: right;\n",
       "    }\n",
       "</style>\n",
       "<table border=\"1\" class=\"dataframe\">\n",
       "  <thead>\n",
       "    <tr style=\"text-align: right;\">\n",
       "      <th></th>\n",
       "      <th>energy</th>\n",
       "      <th>nlat</th>\n",
       "      <th>elon</th>\n",
       "      <th>elev</th>\n",
       "    </tr>\n",
       "  </thead>\n",
       "  <tbody>\n",
       "    <tr>\n",
       "      <th>count</th>\n",
       "      <td>9.800000e+01</td>\n",
       "      <td>98.000000</td>\n",
       "      <td>98.000000</td>\n",
       "      <td>98.000000</td>\n",
       "    </tr>\n",
       "    <tr>\n",
       "      <th>mean</th>\n",
       "      <td>1.649498e+07</td>\n",
       "      <td>35.571678</td>\n",
       "      <td>-97.432349</td>\n",
       "      <td>382.714286</td>\n",
       "    </tr>\n",
       "    <tr>\n",
       "      <th>std</th>\n",
       "      <td>7.841619e+05</td>\n",
       "      <td>0.892668</td>\n",
       "      <td>1.823683</td>\n",
       "      <td>213.047693</td>\n",
       "    </tr>\n",
       "    <tr>\n",
       "      <th>min</th>\n",
       "      <td>1.469244e+07</td>\n",
       "      <td>33.830130</td>\n",
       "      <td>-102.878200</td>\n",
       "      <td>110.000000</td>\n",
       "    </tr>\n",
       "    <tr>\n",
       "      <th>25%</th>\n",
       "      <td>1.590683e+07</td>\n",
       "      <td>34.856380</td>\n",
       "      <td>-98.723658</td>\n",
       "      <td>251.250000</td>\n",
       "    </tr>\n",
       "    <tr>\n",
       "      <th>50%</th>\n",
       "      <td>1.636354e+07</td>\n",
       "      <td>35.547315</td>\n",
       "      <td>-97.220975</td>\n",
       "      <td>327.500000</td>\n",
       "    </tr>\n",
       "    <tr>\n",
       "      <th>75%</th>\n",
       "      <td>1.703183e+07</td>\n",
       "      <td>36.380547</td>\n",
       "      <td>-96.007135</td>\n",
       "      <td>473.500000</td>\n",
       "    </tr>\n",
       "    <tr>\n",
       "      <th>max</th>\n",
       "      <td>1.879171e+07</td>\n",
       "      <td>36.987070</td>\n",
       "      <td>-94.644960</td>\n",
       "      <td>1322.000000</td>\n",
       "    </tr>\n",
       "  </tbody>\n",
       "</table>\n",
       "</div>"
      ],
      "text/plain": [
       "             energy       nlat        elon         elev\n",
       "count  9.800000e+01  98.000000   98.000000    98.000000\n",
       "mean   1.649498e+07  35.571678  -97.432349   382.714286\n",
       "std    7.841619e+05   0.892668    1.823683   213.047693\n",
       "min    1.469244e+07  33.830130 -102.878200   110.000000\n",
       "25%    1.590683e+07  34.856380  -98.723658   251.250000\n",
       "50%    1.636354e+07  35.547315  -97.220975   327.500000\n",
       "75%    1.703183e+07  36.380547  -96.007135   473.500000\n",
       "max    1.879171e+07  36.987070  -94.644960  1322.000000"
      ]
     },
     "execution_count": 138,
     "metadata": {},
     "output_type": "execute_result"
    }
   ],
   "source": [
    "df.describe()"
   ]
  },
  {
   "cell_type": "code",
   "execution_count": 139,
   "id": "f9f67182",
   "metadata": {},
   "outputs": [],
   "source": [
    "df=pd.read_csv('trainData6stations.csv')"
   ]
  },
  {
   "cell_type": "code",
   "execution_count": 140,
   "id": "8fa8a9e4",
   "metadata": {},
   "outputs": [
    {
     "data": {
      "text/plain": [
       "Index(['Unnamed: 0', 'Date', 'station', 'station elevation', 'Precipitation',\n",
       "       'Downward Long Wave Rad Flux', 'Downward Short Wave Rad Flux',\n",
       "       'Air Pressure', 'Water precipitation', 'Humidity', 'Cloud cover',\n",
       "       'Temperature', 'Upward Long wave Rad', 'Upward Long wave Rad Atmos',\n",
       "       'Upward Short Wave Rad', 'Max Temperature', 'solar energy'],\n",
       "      dtype='object')"
      ]
     },
     "execution_count": 140,
     "metadata": {},
     "output_type": "execute_result"
    }
   ],
   "source": [
    "df.columns"
   ]
  },
  {
   "cell_type": "code",
   "execution_count": 141,
   "id": "b15f8159",
   "metadata": {
    "scrolled": true
   },
   "outputs": [
    {
     "data": {
      "text/html": [
       "<div>\n",
       "<style scoped>\n",
       "    .dataframe tbody tr th:only-of-type {\n",
       "        vertical-align: middle;\n",
       "    }\n",
       "\n",
       "    .dataframe tbody tr th {\n",
       "        vertical-align: top;\n",
       "    }\n",
       "\n",
       "    .dataframe thead th {\n",
       "        text-align: right;\n",
       "    }\n",
       "</style>\n",
       "<table border=\"1\" class=\"dataframe\">\n",
       "  <thead>\n",
       "    <tr style=\"text-align: right;\">\n",
       "      <th></th>\n",
       "      <th>Unnamed: 0</th>\n",
       "      <th>Precipitation</th>\n",
       "      <th>Downward Long Wave Rad Flux</th>\n",
       "      <th>Downward Short Wave Rad Flux</th>\n",
       "      <th>Air Pressure</th>\n",
       "      <th>Water precipitation</th>\n",
       "      <th>Humidity</th>\n",
       "      <th>Cloud cover</th>\n",
       "      <th>Temperature</th>\n",
       "      <th>Upward Long wave Rad</th>\n",
       "      <th>Upward Long wave Rad Atmos</th>\n",
       "      <th>Upward Short Wave Rad</th>\n",
       "      <th>Max Temperature</th>\n",
       "      <th>solar energy</th>\n",
       "    </tr>\n",
       "  </thead>\n",
       "  <tbody>\n",
       "    <tr>\n",
       "      <th>Unnamed: 0</th>\n",
       "      <td>1.000000</td>\n",
       "      <td>0.007490</td>\n",
       "      <td>0.022802</td>\n",
       "      <td>-0.017216</td>\n",
       "      <td>0.003028</td>\n",
       "      <td>0.019030</td>\n",
       "      <td>0.016869</td>\n",
       "      <td>0.019302</td>\n",
       "      <td>0.025440</td>\n",
       "      <td>0.020571</td>\n",
       "      <td>0.009056</td>\n",
       "      <td>-0.027381</td>\n",
       "      <td>0.028872</td>\n",
       "      <td>-0.018041</td>\n",
       "    </tr>\n",
       "    <tr>\n",
       "      <th>Precipitation</th>\n",
       "      <td>0.007490</td>\n",
       "      <td>1.000000</td>\n",
       "      <td>0.225539</td>\n",
       "      <td>-0.176792</td>\n",
       "      <td>-0.003893</td>\n",
       "      <td>0.310394</td>\n",
       "      <td>0.224633</td>\n",
       "      <td>0.835162</td>\n",
       "      <td>0.016758</td>\n",
       "      <td>0.023502</td>\n",
       "      <td>-0.315228</td>\n",
       "      <td>-0.246784</td>\n",
       "      <td>0.017608</td>\n",
       "      <td>-0.313461</td>\n",
       "    </tr>\n",
       "    <tr>\n",
       "      <th>Downward Long Wave Rad Flux</th>\n",
       "      <td>0.022802</td>\n",
       "      <td>0.225539</td>\n",
       "      <td>1.000000</td>\n",
       "      <td>0.671283</td>\n",
       "      <td>0.422270</td>\n",
       "      <td>0.888658</td>\n",
       "      <td>0.903972</td>\n",
       "      <td>0.050825</td>\n",
       "      <td>0.827793</td>\n",
       "      <td>0.941367</td>\n",
       "      <td>0.638119</td>\n",
       "      <td>0.565463</td>\n",
       "      <td>0.811401</td>\n",
       "      <td>0.402702</td>\n",
       "    </tr>\n",
       "    <tr>\n",
       "      <th>Downward Short Wave Rad Flux</th>\n",
       "      <td>-0.017216</td>\n",
       "      <td>-0.176792</td>\n",
       "      <td>0.671283</td>\n",
       "      <td>1.000000</td>\n",
       "      <td>0.272997</td>\n",
       "      <td>0.553858</td>\n",
       "      <td>0.655469</td>\n",
       "      <td>-0.406712</td>\n",
       "      <td>0.784203</td>\n",
       "      <td>0.800711</td>\n",
       "      <td>0.701610</td>\n",
       "      <td>0.944138</td>\n",
       "      <td>0.739670</td>\n",
       "      <td>0.815890</td>\n",
       "    </tr>\n",
       "    <tr>\n",
       "      <th>Air Pressure</th>\n",
       "      <td>0.003028</td>\n",
       "      <td>-0.003893</td>\n",
       "      <td>0.422270</td>\n",
       "      <td>0.272997</td>\n",
       "      <td>1.000000</td>\n",
       "      <td>0.056161</td>\n",
       "      <td>0.059507</td>\n",
       "      <td>-0.049977</td>\n",
       "      <td>-0.029670</td>\n",
       "      <td>0.560524</td>\n",
       "      <td>0.668183</td>\n",
       "      <td>0.396346</td>\n",
       "      <td>-0.064870</td>\n",
       "      <td>0.071637</td>\n",
       "    </tr>\n",
       "    <tr>\n",
       "      <th>Water precipitation</th>\n",
       "      <td>0.019030</td>\n",
       "      <td>0.310394</td>\n",
       "      <td>0.888658</td>\n",
       "      <td>0.553858</td>\n",
       "      <td>0.056161</td>\n",
       "      <td>1.000000</td>\n",
       "      <td>0.962531</td>\n",
       "      <td>0.114384</td>\n",
       "      <td>0.844371</td>\n",
       "      <td>0.740282</td>\n",
       "      <td>0.343181</td>\n",
       "      <td>0.408446</td>\n",
       "      <td>0.837632</td>\n",
       "      <td>0.332872</td>\n",
       "    </tr>\n",
       "    <tr>\n",
       "      <th>Humidity</th>\n",
       "      <td>0.016869</td>\n",
       "      <td>0.224633</td>\n",
       "      <td>0.903972</td>\n",
       "      <td>0.655469</td>\n",
       "      <td>0.059507</td>\n",
       "      <td>0.962531</td>\n",
       "      <td>1.000000</td>\n",
       "      <td>-0.005555</td>\n",
       "      <td>0.911225</td>\n",
       "      <td>0.794710</td>\n",
       "      <td>0.445356</td>\n",
       "      <td>0.506625</td>\n",
       "      <td>0.906876</td>\n",
       "      <td>0.445349</td>\n",
       "    </tr>\n",
       "    <tr>\n",
       "      <th>Cloud cover</th>\n",
       "      <td>0.019302</td>\n",
       "      <td>0.835162</td>\n",
       "      <td>0.050825</td>\n",
       "      <td>-0.406712</td>\n",
       "      <td>-0.049977</td>\n",
       "      <td>0.114384</td>\n",
       "      <td>-0.005555</td>\n",
       "      <td>1.000000</td>\n",
       "      <td>-0.194036</td>\n",
       "      <td>-0.176386</td>\n",
       "      <td>-0.530516</td>\n",
       "      <td>-0.476028</td>\n",
       "      <td>-0.191296</td>\n",
       "      <td>-0.503528</td>\n",
       "    </tr>\n",
       "    <tr>\n",
       "      <th>Temperature</th>\n",
       "      <td>0.025440</td>\n",
       "      <td>0.016758</td>\n",
       "      <td>0.827793</td>\n",
       "      <td>0.784203</td>\n",
       "      <td>-0.029670</td>\n",
       "      <td>0.844371</td>\n",
       "      <td>0.911225</td>\n",
       "      <td>-0.194036</td>\n",
       "      <td>1.000000</td>\n",
       "      <td>0.805876</td>\n",
       "      <td>0.522875</td>\n",
       "      <td>0.614218</td>\n",
       "      <td>0.995189</td>\n",
       "      <td>0.633671</td>\n",
       "    </tr>\n",
       "    <tr>\n",
       "      <th>Upward Long wave Rad</th>\n",
       "      <td>0.020571</td>\n",
       "      <td>0.023502</td>\n",
       "      <td>0.941367</td>\n",
       "      <td>0.800711</td>\n",
       "      <td>0.560524</td>\n",
       "      <td>0.740282</td>\n",
       "      <td>0.794710</td>\n",
       "      <td>-0.176386</td>\n",
       "      <td>0.805876</td>\n",
       "      <td>1.000000</td>\n",
       "      <td>0.823323</td>\n",
       "      <td>0.735944</td>\n",
       "      <td>0.781180</td>\n",
       "      <td>0.555603</td>\n",
       "    </tr>\n",
       "    <tr>\n",
       "      <th>Upward Long wave Rad Atmos</th>\n",
       "      <td>0.009056</td>\n",
       "      <td>-0.315228</td>\n",
       "      <td>0.638119</td>\n",
       "      <td>0.701610</td>\n",
       "      <td>0.668183</td>\n",
       "      <td>0.343181</td>\n",
       "      <td>0.445356</td>\n",
       "      <td>-0.530516</td>\n",
       "      <td>0.522875</td>\n",
       "      <td>0.823323</td>\n",
       "      <td>1.000000</td>\n",
       "      <td>0.742489</td>\n",
       "      <td>0.500605</td>\n",
       "      <td>0.559093</td>\n",
       "    </tr>\n",
       "    <tr>\n",
       "      <th>Upward Short Wave Rad</th>\n",
       "      <td>-0.027381</td>\n",
       "      <td>-0.246784</td>\n",
       "      <td>0.565463</td>\n",
       "      <td>0.944138</td>\n",
       "      <td>0.396346</td>\n",
       "      <td>0.408446</td>\n",
       "      <td>0.506625</td>\n",
       "      <td>-0.476028</td>\n",
       "      <td>0.614218</td>\n",
       "      <td>0.735944</td>\n",
       "      <td>0.742489</td>\n",
       "      <td>1.000000</td>\n",
       "      <td>0.564514</td>\n",
       "      <td>0.780452</td>\n",
       "    </tr>\n",
       "    <tr>\n",
       "      <th>Max Temperature</th>\n",
       "      <td>0.028872</td>\n",
       "      <td>0.017608</td>\n",
       "      <td>0.811401</td>\n",
       "      <td>0.739670</td>\n",
       "      <td>-0.064870</td>\n",
       "      <td>0.837632</td>\n",
       "      <td>0.906876</td>\n",
       "      <td>-0.191296</td>\n",
       "      <td>0.995189</td>\n",
       "      <td>0.781180</td>\n",
       "      <td>0.500605</td>\n",
       "      <td>0.564514</td>\n",
       "      <td>1.000000</td>\n",
       "      <td>0.606041</td>\n",
       "    </tr>\n",
       "    <tr>\n",
       "      <th>solar energy</th>\n",
       "      <td>-0.018041</td>\n",
       "      <td>-0.313461</td>\n",
       "      <td>0.402702</td>\n",
       "      <td>0.815890</td>\n",
       "      <td>0.071637</td>\n",
       "      <td>0.332872</td>\n",
       "      <td>0.445349</td>\n",
       "      <td>-0.503528</td>\n",
       "      <td>0.633671</td>\n",
       "      <td>0.555603</td>\n",
       "      <td>0.559093</td>\n",
       "      <td>0.780452</td>\n",
       "      <td>0.606041</td>\n",
       "      <td>1.000000</td>\n",
       "    </tr>\n",
       "  </tbody>\n",
       "</table>\n",
       "</div>"
      ],
      "text/plain": [
       "                              Unnamed: 0  Precipitation  \\\n",
       "Unnamed: 0                      1.000000       0.007490   \n",
       "Precipitation                   0.007490       1.000000   \n",
       "Downward Long Wave Rad Flux     0.022802       0.225539   \n",
       "Downward Short Wave Rad Flux   -0.017216      -0.176792   \n",
       "Air Pressure                    0.003028      -0.003893   \n",
       "Water precipitation             0.019030       0.310394   \n",
       "Humidity                        0.016869       0.224633   \n",
       "Cloud cover                     0.019302       0.835162   \n",
       "Temperature                     0.025440       0.016758   \n",
       "Upward Long wave Rad            0.020571       0.023502   \n",
       "Upward Long wave Rad Atmos      0.009056      -0.315228   \n",
       "Upward Short Wave Rad          -0.027381      -0.246784   \n",
       "Max Temperature                 0.028872       0.017608   \n",
       "solar energy                   -0.018041      -0.313461   \n",
       "\n",
       "                              Downward Long Wave Rad Flux  \\\n",
       "Unnamed: 0                                       0.022802   \n",
       "Precipitation                                    0.225539   \n",
       "Downward Long Wave Rad Flux                      1.000000   \n",
       "Downward Short Wave Rad Flux                     0.671283   \n",
       "Air Pressure                                     0.422270   \n",
       "Water precipitation                              0.888658   \n",
       "Humidity                                         0.903972   \n",
       "Cloud cover                                      0.050825   \n",
       "Temperature                                      0.827793   \n",
       "Upward Long wave Rad                             0.941367   \n",
       "Upward Long wave Rad Atmos                       0.638119   \n",
       "Upward Short Wave Rad                            0.565463   \n",
       "Max Temperature                                  0.811401   \n",
       "solar energy                                     0.402702   \n",
       "\n",
       "                              Downward Short Wave Rad Flux  Air Pressure  \\\n",
       "Unnamed: 0                                       -0.017216      0.003028   \n",
       "Precipitation                                    -0.176792     -0.003893   \n",
       "Downward Long Wave Rad Flux                       0.671283      0.422270   \n",
       "Downward Short Wave Rad Flux                      1.000000      0.272997   \n",
       "Air Pressure                                      0.272997      1.000000   \n",
       "Water precipitation                               0.553858      0.056161   \n",
       "Humidity                                          0.655469      0.059507   \n",
       "Cloud cover                                      -0.406712     -0.049977   \n",
       "Temperature                                       0.784203     -0.029670   \n",
       "Upward Long wave Rad                              0.800711      0.560524   \n",
       "Upward Long wave Rad Atmos                        0.701610      0.668183   \n",
       "Upward Short Wave Rad                             0.944138      0.396346   \n",
       "Max Temperature                                   0.739670     -0.064870   \n",
       "solar energy                                      0.815890      0.071637   \n",
       "\n",
       "                              Water precipitation  Humidity  Cloud cover  \\\n",
       "Unnamed: 0                               0.019030  0.016869     0.019302   \n",
       "Precipitation                            0.310394  0.224633     0.835162   \n",
       "Downward Long Wave Rad Flux              0.888658  0.903972     0.050825   \n",
       "Downward Short Wave Rad Flux             0.553858  0.655469    -0.406712   \n",
       "Air Pressure                             0.056161  0.059507    -0.049977   \n",
       "Water precipitation                      1.000000  0.962531     0.114384   \n",
       "Humidity                                 0.962531  1.000000    -0.005555   \n",
       "Cloud cover                              0.114384 -0.005555     1.000000   \n",
       "Temperature                              0.844371  0.911225    -0.194036   \n",
       "Upward Long wave Rad                     0.740282  0.794710    -0.176386   \n",
       "Upward Long wave Rad Atmos               0.343181  0.445356    -0.530516   \n",
       "Upward Short Wave Rad                    0.408446  0.506625    -0.476028   \n",
       "Max Temperature                          0.837632  0.906876    -0.191296   \n",
       "solar energy                             0.332872  0.445349    -0.503528   \n",
       "\n",
       "                              Temperature  Upward Long wave Rad  \\\n",
       "Unnamed: 0                       0.025440              0.020571   \n",
       "Precipitation                    0.016758              0.023502   \n",
       "Downward Long Wave Rad Flux      0.827793              0.941367   \n",
       "Downward Short Wave Rad Flux     0.784203              0.800711   \n",
       "Air Pressure                    -0.029670              0.560524   \n",
       "Water precipitation              0.844371              0.740282   \n",
       "Humidity                         0.911225              0.794710   \n",
       "Cloud cover                     -0.194036             -0.176386   \n",
       "Temperature                      1.000000              0.805876   \n",
       "Upward Long wave Rad             0.805876              1.000000   \n",
       "Upward Long wave Rad Atmos       0.522875              0.823323   \n",
       "Upward Short Wave Rad            0.614218              0.735944   \n",
       "Max Temperature                  0.995189              0.781180   \n",
       "solar energy                     0.633671              0.555603   \n",
       "\n",
       "                              Upward Long wave Rad Atmos  \\\n",
       "Unnamed: 0                                      0.009056   \n",
       "Precipitation                                  -0.315228   \n",
       "Downward Long Wave Rad Flux                     0.638119   \n",
       "Downward Short Wave Rad Flux                    0.701610   \n",
       "Air Pressure                                    0.668183   \n",
       "Water precipitation                             0.343181   \n",
       "Humidity                                        0.445356   \n",
       "Cloud cover                                    -0.530516   \n",
       "Temperature                                     0.522875   \n",
       "Upward Long wave Rad                            0.823323   \n",
       "Upward Long wave Rad Atmos                      1.000000   \n",
       "Upward Short Wave Rad                           0.742489   \n",
       "Max Temperature                                 0.500605   \n",
       "solar energy                                    0.559093   \n",
       "\n",
       "                              Upward Short Wave Rad  Max Temperature  \\\n",
       "Unnamed: 0                                -0.027381         0.028872   \n",
       "Precipitation                             -0.246784         0.017608   \n",
       "Downward Long Wave Rad Flux                0.565463         0.811401   \n",
       "Downward Short Wave Rad Flux               0.944138         0.739670   \n",
       "Air Pressure                               0.396346        -0.064870   \n",
       "Water precipitation                        0.408446         0.837632   \n",
       "Humidity                                   0.506625         0.906876   \n",
       "Cloud cover                               -0.476028        -0.191296   \n",
       "Temperature                                0.614218         0.995189   \n",
       "Upward Long wave Rad                       0.735944         0.781180   \n",
       "Upward Long wave Rad Atmos                 0.742489         0.500605   \n",
       "Upward Short Wave Rad                      1.000000         0.564514   \n",
       "Max Temperature                            0.564514         1.000000   \n",
       "solar energy                               0.780452         0.606041   \n",
       "\n",
       "                              solar energy  \n",
       "Unnamed: 0                       -0.018041  \n",
       "Precipitation                    -0.313461  \n",
       "Downward Long Wave Rad Flux       0.402702  \n",
       "Downward Short Wave Rad Flux      0.815890  \n",
       "Air Pressure                      0.071637  \n",
       "Water precipitation               0.332872  \n",
       "Humidity                          0.445349  \n",
       "Cloud cover                      -0.503528  \n",
       "Temperature                       0.633671  \n",
       "Upward Long wave Rad              0.555603  \n",
       "Upward Long wave Rad Atmos        0.559093  \n",
       "Upward Short Wave Rad             0.780452  \n",
       "Max Temperature                   0.606041  \n",
       "solar energy                      1.000000  "
      ]
     },
     "execution_count": 141,
     "metadata": {},
     "output_type": "execute_result"
    }
   ],
   "source": [
    "df.corr()"
   ]
  },
  {
   "cell_type": "markdown",
   "id": "a8f7d1eb",
   "metadata": {},
   "source": [
    "Above table shows Downward Long Wave Rad Flux,Temperature,Upward Long wave Rad,Upward Long wave Rad Atmos,Upward Short Wave Rad are having maximus correlation among all the predictors"
   ]
  }
 ],
 "metadata": {
  "kernelspec": {
   "display_name": "Python 3",
   "language": "python",
   "name": "python3"
  },
  "language_info": {
   "codemirror_mode": {
    "name": "ipython",
    "version": 3
   },
   "file_extension": ".py",
   "mimetype": "text/x-python",
   "name": "python",
   "nbconvert_exporter": "python",
   "pygments_lexer": "ipython3",
   "version": "3.8.8"
  }
 },
 "nbformat": 4,
 "nbformat_minor": 5
}
